{
 "cells": [
  {
   "cell_type": "code",
   "execution_count": 1,
   "id": "f24dc293",
   "metadata": {},
   "outputs": [
    {
     "name": "stdout",
     "output_type": "stream",
     "text": [
      "3\n"
     ]
    }
   ],
   "source": [
    "\n",
    "import pandas as pd\n",
    "import matplotlib.pyplot as plt\n",
    "import numpy as np"
   ]
  },
  {
   "cell_type": "code",
   "execution_count": 4,
   "id": "5f4c07b7",
   "metadata": {},
   "outputs": [],
   "source": [
    "#reading dataset into variable\n",
    "data=pd.read_csv('housing_data.csv')"
   ]
  },
  {
   "cell_type": "markdown",
   "id": "69b7d55b",
   "metadata": {},
   "source": [
    "# Calculating mean of the Sale Price with respect to Condition of the House"
   ]
  },
  {
   "cell_type": "code",
   "execution_count": 5,
   "id": "1e1ec3f6",
   "metadata": {},
   "outputs": [
    {
     "name": "stderr",
     "output_type": "stream",
     "text": [
      "<ipython-input-5-2a85edcbfb48>:3: SettingWithCopyWarning: \n",
      "A value is trying to be set on a copy of a slice from a DataFrame\n",
      "\n",
      "See the caveats in the documentation: https://pandas.pydata.org/pandas-docs/stable/user_guide/indexing.html#returning-a-view-versus-a-copy\n",
      "  data['condition sale'][data['Condition of the House']==str(i)]= data['Sale Price'][data['Condition of the House']==str(i)].mean()\n",
      "<ipython-input-5-2a85edcbfb48>:3: SettingWithCopyWarning: \n",
      "A value is trying to be set on a copy of a slice from a DataFrame\n",
      "\n",
      "See the caveats in the documentation: https://pandas.pydata.org/pandas-docs/stable/user_guide/indexing.html#returning-a-view-versus-a-copy\n",
      "  data['condition sale'][data['Condition of the House']==str(i)]= data['Sale Price'][data['Condition of the House']==str(i)].mean()\n"
     ]
    },
    {
     "data": {
      "image/png": "[encoded data removed]",
      "text/plain": [
       "<Figure size 600x400 with 1 Axes>"
      ]
     },
     "metadata": {
      "needs_background": "light"
     },
     "output_type": "display_data"
    }
   ],
   "source": [
    "data['condition sale']=0\n",
    "for i in data['Condition of the House'].unique():\n",
    "    data['condition sale'][data['Condition of the House']==str(i)]= data['Sale Price'][data['Condition of the House']==str(i)].mean()\n",
    "    \n",
    "plt.figure(dpi=100)\n",
    "plt.bar(data['Condition of the House'].unique(),data['condition sale'].unique())\n",
    "plt.show()"
   ]
  },
  {
   "cell_type": "code",
   "execution_count": 6,
   "id": "39ed5582",
   "metadata": {},
   "outputs": [
    {
     "data": {
      "text/plain": [
       "5"
      ]
     },
     "execution_count": 6,
     "metadata": {},
     "output_type": "execute_result"
    }
   ],
   "source": [
    "len(data['condition sale'].unique())"
   ]
  },
  {
   "cell_type": "code",
   "execution_count": 7,
   "id": "dc1b4a9a",
   "metadata": {},
   "outputs": [
    {
     "name": "stdout",
     "output_type": "stream",
     "text": [
      "<class 'pandas.core.frame.DataFrame'>\n",
      "RangeIndex: 21613 entries, 0 to 21612\n",
      "Data columns (total 22 columns):\n",
      " #   Column                                     Non-Null Count  Dtype  \n",
      "---  ------                                     --------------  -----  \n",
      " 0   ID                                         21613 non-null  int64  \n",
      " 1   Date House was Sold                        21613 non-null  object \n",
      " 2   Sale Price                                 21609 non-null  float64\n",
      " 3   No of Bedrooms                             21613 non-null  int64  \n",
      " 4   No of Bathrooms                            21609 non-null  float64\n",
      " 5   Flat Area (in Sqft)                        21604 non-null  float64\n",
      " 6   Lot Area (in Sqft)                         21604 non-null  float64\n",
      " 7   No of Floors                               21613 non-null  float64\n",
      " 8   Waterfront View                            21613 non-null  object \n",
      " 9   No of Times Visited                        21613 non-null  object \n",
      " 10  Condition of the House                     21613 non-null  object \n",
      " 11  Overall Grade                              21613 non-null  int64  \n",
      " 12  Area of the House from Basement (in Sqft)  21610 non-null  float64\n",
      " 13  Basement Area (in Sqft)                    21613 non-null  int64  \n",
      " 14  Age of House (in Years)                    21613 non-null  int64  \n",
      " 15  Renovated Year                             21613 non-null  int64  \n",
      " 16  Zipcode                                    21612 non-null  float64\n",
      " 17  Latitude                                   21612 non-null  float64\n",
      " 18  Longitude                                  21612 non-null  float64\n",
      " 19  Living Area after Renovation (in Sqft)     21612 non-null  float64\n",
      " 20  Lot Area after Renovation (in Sqft)        21613 non-null  int64  \n",
      " 21  condition sale                             21613 non-null  float64\n",
      "dtypes: float64(11), int64(7), object(4)\n",
      "memory usage: 3.6+ MB\n"
     ]
    }
   ],
   "source": [
    "data.info()"
   ]
  },
  {
   "cell_type": "code",
   "execution_count": 8,
   "id": "17aa12b8",
   "metadata": {},
   "outputs": [
    {
     "name": "stderr",
     "output_type": "stream",
     "text": [
      "<ipython-input-8-3766f24d8194>:9: SettingWithCopyWarning: \n",
      "A value is trying to be set on a copy of a slice from a DataFrame\n",
      "\n",
      "See the caveats in the documentation: https://pandas.pydata.org/pandas-docs/stable/user_guide/indexing.html#returning-a-view-versus-a-copy\n",
      "  data['zip_condition_sale'][(data[c]==str(i))& data[z]==j] = data['Sale Price'][(data[c]==str(i))& data[z]==j].mean()\n"
     ]
    },
    {
     "data": {
      "text/plain": [
       "1"
      ]
     },
     "execution_count": 8,
     "metadata": {},
     "output_type": "execute_result"
    }
   ],
   "source": [
    "# Calculating mean with respect to two columns \n",
    "data['zip_condition_sale']=0\n",
    "\n",
    "c='Condition of the House'\n",
    "z='Zipcode'\n",
    "\n",
    "for i in data[c].unique():\n",
    "    for j in data[z].unique():\n",
    "        data['zip_condition_sale'][(data[c]==str(i))& data[z]==j] = data['Sale Price'][(data[c]==str(i))& data[z]==j].mean()\n",
    "len(data['zip_condition_sale'].unique())       "
   ]
  },
  {
   "cell_type": "markdown",
   "id": "ada5b23d",
   "metadata": {},
   "source": [
    "# Using advance Pandas Functions for data manipulation"
   ]
  },
  {
   "cell_type": "code",
   "execution_count": 9,
   "id": "524cce96",
   "metadata": {},
   "outputs": [
    {
     "data": {
      "text/plain": [
       "Condition of the House  Zipcode\n",
       "Bad                     98004.0    1.500000e+06\n",
       "                        98006.0    3.725000e+05\n",
       "                        98011.0    2.700000e+05\n",
       "                        98023.0    1.500000e+05\n",
       "                        98024.0    1.420000e+05\n",
       "                                       ...     \n",
       "Okay                    98155.0    3.601833e+05\n",
       "                        98166.0    2.165625e+05\n",
       "                        98168.0    1.809389e+05\n",
       "                        98178.0    1.750000e+05\n",
       "                        98198.0    2.705325e+05\n",
       "Name: Sale Price, Length: 283, dtype: float64"
      ]
     },
     "execution_count": 9,
     "metadata": {},
     "output_type": "execute_result"
    }
   ],
   "source": [
    "#Calculating mean with respect to two columns by using PANDAS groupby() function\n",
    "\n",
    "zip_condition_sale=data.groupby(['Condition of the House','Zipcode'])['Sale Price'].mean()\n",
    "\n",
    "zip_condition_sale"
   ]
  },
  {
   "cell_type": "code",
   "execution_count": 10,
   "id": "cb8eb2ee",
   "metadata": {},
   "outputs": [
    {
     "data": {
      "text/html": [
       "<div>\n",
       "<style scoped>\n",
       "    .dataframe tbody tr th:only-of-type {\n",
       "        vertical-align: middle;\n",
       "    }\n",
       "\n",
       "    .dataframe tbody tr th {\n",
       "        vertical-align: top;\n",
       "    }\n",
       "\n",
       "    .dataframe thead th {\n",
       "        text-align: right;\n",
       "    }\n",
       "</style>\n",
       "<table border=\"1\" class=\"dataframe\">\n",
       "  <thead>\n",
       "    <tr style=\"text-align: right;\">\n",
       "      <th></th>\n",
       "      <th></th>\n",
       "      <th>Sale Price</th>\n",
       "    </tr>\n",
       "    <tr>\n",
       "      <th>Condition of the House</th>\n",
       "      <th>Zipcode</th>\n",
       "      <th></th>\n",
       "    </tr>\n",
       "  </thead>\n",
       "  <tbody>\n",
       "    <tr>\n",
       "      <th rowspan=\"5\" valign=\"top\">Bad</th>\n",
       "      <th>98004.0</th>\n",
       "      <td>1.500000e+06</td>\n",
       "    </tr>\n",
       "    <tr>\n",
       "      <th>98006.0</th>\n",
       "      <td>3.725000e+05</td>\n",
       "    </tr>\n",
       "    <tr>\n",
       "      <th>98011.0</th>\n",
       "      <td>2.700000e+05</td>\n",
       "    </tr>\n",
       "    <tr>\n",
       "      <th>98023.0</th>\n",
       "      <td>1.500000e+05</td>\n",
       "    </tr>\n",
       "    <tr>\n",
       "      <th>98024.0</th>\n",
       "      <td>1.420000e+05</td>\n",
       "    </tr>\n",
       "    <tr>\n",
       "      <th>...</th>\n",
       "      <th>...</th>\n",
       "      <td>...</td>\n",
       "    </tr>\n",
       "    <tr>\n",
       "      <th rowspan=\"5\" valign=\"top\">Okay</th>\n",
       "      <th>98155.0</th>\n",
       "      <td>3.601833e+05</td>\n",
       "    </tr>\n",
       "    <tr>\n",
       "      <th>98166.0</th>\n",
       "      <td>2.165625e+05</td>\n",
       "    </tr>\n",
       "    <tr>\n",
       "      <th>98168.0</th>\n",
       "      <td>1.809389e+05</td>\n",
       "    </tr>\n",
       "    <tr>\n",
       "      <th>98178.0</th>\n",
       "      <td>1.750000e+05</td>\n",
       "    </tr>\n",
       "    <tr>\n",
       "      <th>98198.0</th>\n",
       "      <td>2.705325e+05</td>\n",
       "    </tr>\n",
       "  </tbody>\n",
       "</table>\n",
       "<p>283 rows × 1 columns</p>\n",
       "</div>"
      ],
      "text/plain": [
       "                                  Sale Price\n",
       "Condition of the House Zipcode              \n",
       "Bad                    98004.0  1.500000e+06\n",
       "                       98006.0  3.725000e+05\n",
       "                       98011.0  2.700000e+05\n",
       "                       98023.0  1.500000e+05\n",
       "                       98024.0  1.420000e+05\n",
       "...                                      ...\n",
       "Okay                   98155.0  3.601833e+05\n",
       "                       98166.0  2.165625e+05\n",
       "                       98168.0  1.809389e+05\n",
       "                       98178.0  1.750000e+05\n",
       "                       98198.0  2.705325e+05\n",
       "\n",
       "[283 rows x 1 columns]"
      ]
     },
     "execution_count": 10,
     "metadata": {},
     "output_type": "execute_result"
    }
   ],
   "source": [
    "#using PANDAS pivot_table()\n",
    "zip_condition_sale2= pd.pivot_table(data,index=['Condition of the House','Zipcode'],values=['Sale Price'],aggfunc=np.mean)\n",
    "zip_condition_sale2"
   ]
  },
  {
   "cell_type": "code",
   "execution_count": 11,
   "id": "416dba1e",
   "metadata": {},
   "outputs": [
    {
     "data": {
      "text/html": [
       "<div>\n",
       "<style scoped>\n",
       "    .dataframe tbody tr th:only-of-type {\n",
       "        vertical-align: middle;\n",
       "    }\n",
       "\n",
       "    .dataframe tbody tr th {\n",
       "        vertical-align: top;\n",
       "    }\n",
       "\n",
       "    .dataframe thead tr th {\n",
       "        text-align: left;\n",
       "    }\n",
       "\n",
       "    .dataframe thead tr:last-of-type th {\n",
       "        text-align: right;\n",
       "    }\n",
       "</style>\n",
       "<table border=\"1\" class=\"dataframe\">\n",
       "  <thead>\n",
       "    <tr>\n",
       "      <th></th>\n",
       "      <th colspan=\"21\" halign=\"left\">Sale Price</th>\n",
       "    </tr>\n",
       "    <tr>\n",
       "      <th>Zipcode</th>\n",
       "      <th>98001.0</th>\n",
       "      <th>98002.0</th>\n",
       "      <th>98003.0</th>\n",
       "      <th>98004.0</th>\n",
       "      <th>98005.0</th>\n",
       "      <th>98006.0</th>\n",
       "      <th>98007.0</th>\n",
       "      <th>98008.0</th>\n",
       "      <th>98010.0</th>\n",
       "      <th>98011.0</th>\n",
       "      <th>...</th>\n",
       "      <th>98146.0</th>\n",
       "      <th>98148.0</th>\n",
       "      <th>98155.0</th>\n",
       "      <th>98166.0</th>\n",
       "      <th>98168.0</th>\n",
       "      <th>98177.0</th>\n",
       "      <th>98178.0</th>\n",
       "      <th>98188.0</th>\n",
       "      <th>98198.0</th>\n",
       "      <th>98199.0</th>\n",
       "    </tr>\n",
       "    <tr>\n",
       "      <th>Condition of the House</th>\n",
       "      <th></th>\n",
       "      <th></th>\n",
       "      <th></th>\n",
       "      <th></th>\n",
       "      <th></th>\n",
       "      <th></th>\n",
       "      <th></th>\n",
       "      <th></th>\n",
       "      <th></th>\n",
       "      <th></th>\n",
       "      <th></th>\n",
       "      <th></th>\n",
       "      <th></th>\n",
       "      <th></th>\n",
       "      <th></th>\n",
       "      <th></th>\n",
       "      <th></th>\n",
       "      <th></th>\n",
       "      <th></th>\n",
       "      <th></th>\n",
       "      <th></th>\n",
       "    </tr>\n",
       "  </thead>\n",
       "  <tbody>\n",
       "    <tr>\n",
       "      <th>Bad</th>\n",
       "      <td>NaN</td>\n",
       "      <td>NaN</td>\n",
       "      <td>NaN</td>\n",
       "      <td>1.500000e+06</td>\n",
       "      <td>NaN</td>\n",
       "      <td>372500.000000</td>\n",
       "      <td>NaN</td>\n",
       "      <td>NaN</td>\n",
       "      <td>NaN</td>\n",
       "      <td>270000.000000</td>\n",
       "      <td>...</td>\n",
       "      <td>255000.000000</td>\n",
       "      <td>275250.000000</td>\n",
       "      <td>305000.000000</td>\n",
       "      <td>NaN</td>\n",
       "      <td>79500.000000</td>\n",
       "      <td>NaN</td>\n",
       "      <td>NaN</td>\n",
       "      <td>NaN</td>\n",
       "      <td>NaN</td>\n",
       "      <td>NaN</td>\n",
       "    </tr>\n",
       "    <tr>\n",
       "      <th>Excellent</th>\n",
       "      <td>242543.333333</td>\n",
       "      <td>221641.086957</td>\n",
       "      <td>370680.000000</td>\n",
       "      <td>1.236365e+06</td>\n",
       "      <td>831950.000000</td>\n",
       "      <td>806405.000000</td>\n",
       "      <td>697475.000000</td>\n",
       "      <td>731996.200000</td>\n",
       "      <td>319564.300000</td>\n",
       "      <td>484542.857143</td>\n",
       "      <td>...</td>\n",
       "      <td>462222.222222</td>\n",
       "      <td>289475.000000</td>\n",
       "      <td>421235.480769</td>\n",
       "      <td>495068.500000</td>\n",
       "      <td>250203.666667</td>\n",
       "      <td>896631.272727</td>\n",
       "      <td>297521.739130</td>\n",
       "      <td>285363.636364</td>\n",
       "      <td>321523.500000</td>\n",
       "      <td>933898.285714</td>\n",
       "    </tr>\n",
       "    <tr>\n",
       "      <th>Fair</th>\n",
       "      <td>292720.693878</td>\n",
       "      <td>258886.824324</td>\n",
       "      <td>299280.111732</td>\n",
       "      <td>1.527265e+06</td>\n",
       "      <td>866801.200000</td>\n",
       "      <td>995876.750000</td>\n",
       "      <td>633854.166667</td>\n",
       "      <td>693772.487395</td>\n",
       "      <td>488684.333333</td>\n",
       "      <td>497734.525641</td>\n",
       "      <td>...</td>\n",
       "      <td>319339.477612</td>\n",
       "      <td>287352.000000</td>\n",
       "      <td>440282.136691</td>\n",
       "      <td>480877.866667</td>\n",
       "      <td>241899.226804</td>\n",
       "      <td>649681.238411</td>\n",
       "      <td>309410.492386</td>\n",
       "      <td>290005.931373</td>\n",
       "      <td>294161.875000</td>\n",
       "      <td>760497.393939</td>\n",
       "    </tr>\n",
       "    <tr>\n",
       "      <th>Good</th>\n",
       "      <td>252744.618557</td>\n",
       "      <td>219285.813725</td>\n",
       "      <td>280959.136842</td>\n",
       "      <td>1.145915e+06</td>\n",
       "      <td>766939.650602</td>\n",
       "      <td>729722.741294</td>\n",
       "      <td>594818.726027</td>\n",
       "      <td>588877.388489</td>\n",
       "      <td>342907.545455</td>\n",
       "      <td>461779.032258</td>\n",
       "      <td>...</td>\n",
       "      <td>487384.542373</td>\n",
       "      <td>279666.666667</td>\n",
       "      <td>386593.133929</td>\n",
       "      <td>452418.500000</td>\n",
       "      <td>248558.714286</td>\n",
       "      <td>666575.487805</td>\n",
       "      <td>330841.875000</td>\n",
       "      <td>286741.304348</td>\n",
       "      <td>315430.528846</td>\n",
       "      <td>796381.090909</td>\n",
       "    </tr>\n",
       "    <tr>\n",
       "      <th>Okay</th>\n",
       "      <td>356070.000000</td>\n",
       "      <td>NaN</td>\n",
       "      <td>235500.000000</td>\n",
       "      <td>4.250000e+05</td>\n",
       "      <td>577750.000000</td>\n",
       "      <td>547500.000000</td>\n",
       "      <td>NaN</td>\n",
       "      <td>NaN</td>\n",
       "      <td>NaN</td>\n",
       "      <td>NaN</td>\n",
       "      <td>...</td>\n",
       "      <td>224111.111111</td>\n",
       "      <td>250750.000000</td>\n",
       "      <td>360183.333333</td>\n",
       "      <td>216562.500000</td>\n",
       "      <td>180938.888889</td>\n",
       "      <td>NaN</td>\n",
       "      <td>175000.000000</td>\n",
       "      <td>NaN</td>\n",
       "      <td>270532.500000</td>\n",
       "      <td>NaN</td>\n",
       "    </tr>\n",
       "  </tbody>\n",
       "</table>\n",
       "<p>5 rows × 70 columns</p>\n",
       "</div>"
      ],
      "text/plain": [
       "                           Sale Price                                \\\n",
       "Zipcode                       98001.0        98002.0        98003.0   \n",
       "Condition of the House                                                \n",
       "Bad                               NaN            NaN            NaN   \n",
       "Excellent               242543.333333  221641.086957  370680.000000   \n",
       "Fair                    292720.693878  258886.824324  299280.111732   \n",
       "Good                    252744.618557  219285.813725  280959.136842   \n",
       "Okay                    356070.000000            NaN  235500.000000   \n",
       "\n",
       "                                                                    \\\n",
       "Zipcode                      98004.0        98005.0        98006.0   \n",
       "Condition of the House                                               \n",
       "Bad                     1.500000e+06            NaN  372500.000000   \n",
       "Excellent               1.236365e+06  831950.000000  806405.000000   \n",
       "Fair                    1.527265e+06  866801.200000  995876.750000   \n",
       "Good                    1.145915e+06  766939.650602  729722.741294   \n",
       "Okay                    4.250000e+05  577750.000000  547500.000000   \n",
       "\n",
       "                                                                     \\\n",
       "Zipcode                       98007.0        98008.0        98010.0   \n",
       "Condition of the House                                                \n",
       "Bad                               NaN            NaN            NaN   \n",
       "Excellent               697475.000000  731996.200000  319564.300000   \n",
       "Fair                    633854.166667  693772.487395  488684.333333   \n",
       "Good                    594818.726027  588877.388489  342907.545455   \n",
       "Okay                              NaN            NaN            NaN   \n",
       "\n",
       "                                       ...                                \\\n",
       "Zipcode                       98011.0  ...        98146.0        98148.0   \n",
       "Condition of the House                 ...                                 \n",
       "Bad                     270000.000000  ...  255000.000000  275250.000000   \n",
       "Excellent               484542.857143  ...  462222.222222  289475.000000   \n",
       "Fair                    497734.525641  ...  319339.477612  287352.000000   \n",
       "Good                    461779.032258  ...  487384.542373  279666.666667   \n",
       "Okay                              NaN  ...  224111.111111  250750.000000   \n",
       "\n",
       "                                                                     \\\n",
       "Zipcode                       98155.0        98166.0        98168.0   \n",
       "Condition of the House                                                \n",
       "Bad                     305000.000000            NaN   79500.000000   \n",
       "Excellent               421235.480769  495068.500000  250203.666667   \n",
       "Fair                    440282.136691  480877.866667  241899.226804   \n",
       "Good                    386593.133929  452418.500000  248558.714286   \n",
       "Okay                    360183.333333  216562.500000  180938.888889   \n",
       "\n",
       "                                                                     \\\n",
       "Zipcode                       98177.0        98178.0        98188.0   \n",
       "Condition of the House                                                \n",
       "Bad                               NaN            NaN            NaN   \n",
       "Excellent               896631.272727  297521.739130  285363.636364   \n",
       "Fair                    649681.238411  309410.492386  290005.931373   \n",
       "Good                    666575.487805  330841.875000  286741.304348   \n",
       "Okay                              NaN  175000.000000            NaN   \n",
       "\n",
       "                                                      \n",
       "Zipcode                       98198.0        98199.0  \n",
       "Condition of the House                                \n",
       "Bad                               NaN            NaN  \n",
       "Excellent               321523.500000  933898.285714  \n",
       "Fair                    294161.875000  760497.393939  \n",
       "Good                    315430.528846  796381.090909  \n",
       "Okay                    270532.500000            NaN  \n",
       "\n",
       "[5 rows x 70 columns]"
      ]
     },
     "execution_count": 11,
     "metadata": {},
     "output_type": "execute_result"
    }
   ],
   "source": [
    "#use of PANDAS pivot_table with \"columns\" attribute\n",
    "zip_condition_sale3= pd.pivot_table(data,index=['Condition of the House'],columns=['Zipcode'],values=['Sale Price'],aggfunc=np.mean)\n",
    "zip_condition_sale3"
   ]
  },
  {
   "cell_type": "code",
   "execution_count": 12,
   "id": "19970ac7",
   "metadata": {},
   "outputs": [
    {
     "data": {
      "text/plain": [
       "0        1\n",
       "1        1\n",
       "2        1\n",
       "3        3\n",
       "4        1\n",
       "        ..\n",
       "21608    1\n",
       "21609    1\n",
       "21610    1\n",
       "21611    1\n",
       "21612    1\n",
       "Name: Condition of the House, Length: 21613, dtype: object"
      ]
     },
     "execution_count": 12,
     "metadata": {},
     "output_type": "execute_result"
    }
   ],
   "source": [
    "#using PANDAS map() function\n",
    "data['Condition of the House']= data['Condition of the House'].map({\"Good\":\"1\",\"Excellent\":\"3\",\"Bad\":\"0\",\"Fair\":\"1\",\"Okay\":\"0\"})\n",
    "data['Condition of the House']"
   ]
  },
  {
   "cell_type": "code",
   "execution_count": 15,
   "id": "a9f8e20a",
   "metadata": {},
   "outputs": [
    {
     "data": {
      "text/plain": [
       "array(['1', '3', '0'], dtype=object)"
      ]
     },
     "execution_count": 15,
     "metadata": {},
     "output_type": "execute_result"
    }
   ],
   "source": [
    "data['Condition of the House'].unique()"
   ]
  },
  {
   "cell_type": "code",
   "execution_count": 16,
   "id": "1f558a31",
   "metadata": {},
   "outputs": [
    {
     "data": {
      "text/plain": [
       "0    2017\n",
       "1    2017\n",
       "2    2016\n",
       "3    2017\n",
       "4    2016\n",
       "Name: Year_sold, dtype: object"
      ]
     },
     "execution_count": 16,
     "metadata": {},
     "output_type": "execute_result"
    }
   ],
   "source": [
    "#Use of Map() function to extract year from given date\n",
    "def year(value):\n",
    "    return value.split()[-1]\n",
    "data['Year_sold']=data['Date House was Sold'].map(year)\n",
    "data['Year_sold'].head()"
   ]
  },
  {
   "cell_type": "code",
   "execution_count": null,
   "id": "d8c40b0e",
   "metadata": {},
   "outputs": [],
   "source": []
  }
 ],
 "metadata": {
  "kernelspec": {
   "display_name": "Python 3 (ipykernel)",
   "language": "python",
   "name": "python3"
  },
  "language_info": {
   "codemirror_mode": {
    "name": "ipython",
    "version": 3
   },
   "file_extension": ".py",
   "mimetype": "text/x-python",
   "name": "python",
   "nbconvert_exporter": "python",
   "pygments_lexer": "ipython3",
   "version": "3.9.7"
  }
 },
 "nbformat": 4,
 "nbformat_minor": 5
}
